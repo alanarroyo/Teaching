{
 "cells": [
  {
   "cell_type": "markdown",
   "metadata": {},
   "source": [
    "# (draft) Exercises 1"
   ]
  },
  {
   "cell_type": "markdown",
   "metadata": {},
   "source": [
    "\n",
    "\n",
    "Three categories of exercises:\n",
    "\n",
    "- Required: We will need it in the next session, or super essential Python feature\n",
    "- Recommended: Important practice exercise, or very useful Python feature\n",
    "- Optional: Additional practice exercise, or somewhat obscure Python feature\n",
    "\n",
    "If you're taking the course for credit, try all required and strongly recommended ones, and at least half of the recommended ones.<br>\n",
    "If you're just attending the course, submission is optional.\n",
    "\n",
    "Submission: Save the file as `homework_1_firstname.lastname.ipynb` (where firstname and lastname are your first name and last name as in your IST e-mail address), and send it to XX@ist.ac.at via e-mail by responding to the e-mail announcing the homework."
   ]
  },
  {
   "cell_type": "markdown",
   "metadata": {},
   "source": [
    "## Required"
   ]
  },
  {
   "cell_type": "markdown",
   "metadata": {},
   "source": [
    "**1. Fix the code** *(Georg Osang)*. In each of the following code snippets, there is a mistake. Find it and fix it!<br>\n",
    "Suggestion: First run the code and look at the error message. Fix it and run it again."
   ]
  },
  {
   "cell_type": "code",
   "execution_count": null,
   "metadata": {},
   "outputs": [],
   "source": [
    "# want to compute the area of a triangle. \n",
    "# Formula is half the product of base and height\n",
    "base = 5\n",
    "height = 3\n",
    "area = 0.5*base*heigth\n",
    "print(area)"
   ]
  },
  {
   "cell_type": "code",
   "execution_count": 2,
   "metadata": {},
   "outputs": [
    {
     "name": "stdout",
     "output_type": "stream",
     "text": [
      "17\n"
     ]
    }
   ],
   "source": [
    "# want to compute the perimeter of a rectangle, which is twice the sum of width and length\n",
    "# We don't get an error, but the answer is wrong. It should be 24\n",
    "width = 5\n",
    "length = 7\n",
    "perimeter = 2*width+length\n",
    "print(perimeter)"
   ]
  },
  {
   "cell_type": "code",
   "execution_count": 4,
   "metadata": {},
   "outputs": [
    {
     "ename": "IndentationError",
     "evalue": "unexpected indent (<ipython-input-4-ce8ab893cc70>, line 3)",
     "output_type": "error",
     "traceback": [
      "\u001b[0;36m  File \u001b[0;32m\"<ipython-input-4-ce8ab893cc70>\"\u001b[0;36m, line \u001b[0;32m3\u001b[0m\n\u001b[0;31m    length = 7\u001b[0m\n\u001b[0m    ^\u001b[0m\n\u001b[0;31mIndentationError\u001b[0m\u001b[0;31m:\u001b[0m unexpected indent\n"
     ]
    }
   ],
   "source": [
    "# want to compute the area of a rectangle, which is width times length\n",
    "width = 5\n",
    " length = 7\n",
    "area = width*length\n",
    "print(area)"
   ]
  },
  {
   "cell_type": "code",
   "execution_count": null,
   "metadata": {},
   "outputs": [],
   "source": [
    "# want to print out hello world\n",
    "print(hello world)"
   ]
  },
  {
   "cell_type": "code",
   "execution_count": null,
   "metadata": {},
   "outputs": [],
   "source": [
    "# want to repeat a word 5 times\n",
    "word = `hello`\n",
    "print(hello*5)"
   ]
  },
  {
   "cell_type": "markdown",
   "metadata": {},
   "source": [
    "**2. The `+=` operator** (Georg Osang). \n",
    "\n",
    "Define a float variable `myFavInt`. We can use notation \n",
    "```python\n",
    "myFavInt = myFavInt + 1\n",
    "```\n",
    "to increment the value of the variable by one.\n",
    "\n",
    "There is a shorthand version for incementation\n",
    "```python\n",
    "myFavInt += 1\n",
    "```\n",
    "Check it out. Try incrementing by some other number. Try substituting the plus with a minus sign in the expression. What is the result? Try also multiplication and division. Is the expression sensitive to a spacing, and if so, where?"
   ]
  },
  {
   "cell_type": "code",
   "execution_count": null,
   "metadata": {},
   "outputs": [],
   "source": [
    "# Answer (can encompass many cells)"
   ]
  },
  {
   "cell_type": "markdown",
   "metadata": {},
   "source": [
    "**3. Square of a number** (Georg Osang). Write a small program that asks the user a number and prints the square of that number. \n",
    "\n",
    "If this works, try making it more verbose ( = to print some \"conversation\" lines)."
   ]
  },
  {
   "cell_type": "markdown",
   "metadata": {},
   "source": [
    "**4. `int`+`float`=?**\n",
    "- (a) What is the type of the sum of an `int` and a `float`?\n",
    "- (b) What is the type of an `int` divided by an `int`? Does the result depend on the considered integers?\n"
   ]
  },
  {
   "cell_type": "markdown",
   "metadata": {},
   "source": [
    "**5. Is their sum even?** An integer is *even* if it is a multiple of 2 (e.g. -4, 0, 2, 6) otherwise is *odd*. Write a program that ask for two numbers and returns `True` when their sum is even and `False` when their sum is odd."
   ]
  },
  {
   "cell_type": "markdown",
   "metadata": {},
   "source": [
    "## Optional"
   ]
  },
  {
   "cell_type": "markdown",
   "metadata": {},
   "source": [
    "String methods"
   ]
  },
  {
   "cell_type": "markdown",
   "metadata": {},
   "source": [
    "Go to list of string methods (provide link to documentation) and find max of two integers...\n"
   ]
  },
  {
   "cell_type": "markdown",
   "metadata": {},
   "source": [
    "**1. Basic string methods.**\n",
    "Python has many built-in methods to work with strings. For instance, the `capitalize()` method can be used to capitalize the first letter of a string:"
   ]
  },
  {
   "cell_type": "code",
   "execution_count": 1,
   "metadata": {},
   "outputs": [
    {
     "data": {
      "text/plain": [
       "'Hello'"
      ]
     },
     "execution_count": 1,
     "metadata": {},
     "output_type": "execute_result"
    }
   ],
   "source": [
    "\"hello\".capitalize()"
   ]
  },
  {
   "cell_type": "code",
   "execution_count": 2,
   "metadata": {
    "scrolled": true
   },
   "outputs": [
    {
     "data": {
      "text/plain": [
       "'I am hungry.'"
      ]
     },
     "execution_count": 2,
     "metadata": {},
     "output_type": "execute_result"
    }
   ],
   "source": [
    "phrase=\"i am hungry.\"\n",
    "phrase.capitalize()"
   ]
  },
  {
   "cell_type": "markdown",
   "metadata": {},
   "source": [
    "A full list of methods can be found here https://docs.python.org/3/library/stdtypes.html#string-methods\n",
    "or here\n",
    "https://www.w3schools.com/python/python_ref_string.asp."
   ]
  },
  {
   "cell_type": "markdown",
   "metadata": {},
   "source": [
    "- Find a method that converts `\"stop\"` into an upper case string."
   ]
  },
  {
   "cell_type": "code",
   "execution_count": null,
   "metadata": {},
   "outputs": [],
   "source": [
    "\"stop\".--"
   ]
  },
  {
   "cell_type": "markdown",
   "metadata": {},
   "source": [
    "- Find a method that converts the next string into lower case string."
   ]
  },
  {
   "cell_type": "code",
   "execution_count": null,
   "metadata": {},
   "outputs": [],
   "source": [
    "\"I AM RELAXED!\".--"
   ]
  },
  {
   "cell_type": "markdown",
   "metadata": {},
   "source": [
    "- Find a method that writes the first character in each word as upper case."
   ]
  },
  {
   "cell_type": "code",
   "execution_count": null,
   "metadata": {
    "scrolled": true
   },
   "outputs": [],
   "source": [
    "\"the devil wears prada\".--"
   ]
  },
  {
   "cell_type": "code",
   "execution_count": null,
   "metadata": {},
   "outputs": [],
   "source": []
  },
  {
   "cell_type": "markdown",
   "metadata": {},
   "source": [
    "**2. count(), find(), index()**"
   ]
  },
  {
   "cell_type": "markdown",
   "metadata": {},
   "source": [
    "Go to list of string methods (provide link to documentation) and find max of two integers...\n"
   ]
  },
  {
   "cell_type": "markdown",
   "metadata": {},
   "source": [
    "Format"
   ]
  },
  {
   "cell_type": "markdown",
   "metadata": {},
   "source": [
    "Advanced slicing"
   ]
  },
  {
   "cell_type": "code",
   "execution_count": null,
   "metadata": {},
   "outputs": [],
   "source": []
  }
 ],
 "metadata": {
  "kernelspec": {
   "display_name": "Python 3",
   "language": "python",
   "name": "python3"
  },
  "language_info": {
   "codemirror_mode": {
    "name": "ipython",
    "version": 3
   },
   "file_extension": ".py",
   "mimetype": "text/x-python",
   "name": "python",
   "nbconvert_exporter": "python",
   "pygments_lexer": "ipython3",
   "version": "3.8.3"
  }
 },
 "nbformat": 4,
 "nbformat_minor": 4
}
