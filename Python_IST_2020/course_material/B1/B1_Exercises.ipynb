{
 "cells": [
  {
   "cell_type": "markdown",
   "metadata": {},
   "source": [
    "# Homework exercises 1"
   ]
  },
  {
   "cell_type": "markdown",
   "metadata": {},
   "source": [
    "\n",
    "\n",
    "Three categories of exercises:\n",
    "\n",
    "- Required: We will need it in the next session, or is a super essential Python feature, or reviews what we saw in class.\n",
    "- Recommended: Important practice exercise, or very useful Python feature.\n",
    "- Optional: Additional practice exercise.\n",
    "\n",
    "If you're taking the course for credit, try all required and strongly recommended ones, and at least half of the recommended ones. If you're just attending the course, submission is optional. You are allowed to discuss the exercises with your classmates but every submission must be done individually.\n",
    "\n",
    "**Submission:** Save the file as `homework_1_firstname.lastname.ipynb` (where firstname and lastname are your first name and last name as in your IST e-mail address). Send your assignment by email following the next format:\n",
    "\n",
    "Send to: ryanjohn.cubero@ist.ac.at \n",
    "\n",
    "Copy to: zuzana.dunajova@ist.ac.at; anna.lukina@ist.ac.at; alanmarcelo.arroyoguevara@ist.ac.at\n",
    "\n",
    "Subject: Python_Ex_1\n",
    "\n",
    "**Deadline:** Sept  25, 2020 13:00 CET.\n",
    "\n",
    "\n",
    "\n"
   ]
  },
  {
   "cell_type": "markdown",
   "metadata": {},
   "source": [
    "## Required"
   ]
  },
  {
   "cell_type": "markdown",
   "metadata": {},
   "source": [
    "**1. Fix the code** *(Credit: Georg Osang)*. In each of the following code snippets, there is a mistake. Find it and fix it!<br>\n",
    "Suggestion: First run the code and look at the error message. Fix it and run it again."
   ]
  },
  {
   "cell_type": "code",
   "execution_count": null,
   "metadata": {},
   "outputs": [],
   "source": [
    "# want to compute the area of a triangle. \n",
    "# Formula is half the product of base and height\n",
    "base = 5\n",
    "height = 3\n",
    "area = 0.5*base*heigth\n",
    "print(area)"
   ]
  },
  {
   "cell_type": "code",
   "execution_count": null,
   "metadata": {},
   "outputs": [],
   "source": [
    "# want to compute the perimeter of a rectangle, which is twice the sum of width and length\n",
    "# We don't get an error, but the answer is wrong. It should be 24\n",
    "width = 5\n",
    "length = 7\n",
    "perimeter = 2*width+length\n",
    "print(perimeter)"
   ]
  },
  {
   "cell_type": "code",
   "execution_count": null,
   "metadata": {},
   "outputs": [],
   "source": [
    "# want to compute the area of a rectangle, which is width times length\n",
    "width = 5\n",
    " length = 7\n",
    "area = width*length\n",
    "print(area)"
   ]
  },
  {
   "cell_type": "code",
   "execution_count": null,
   "metadata": {},
   "outputs": [],
   "source": [
    "# want to print out hello world\n",
    "print(hello world)"
   ]
  },
  {
   "cell_type": "code",
   "execution_count": null,
   "metadata": {},
   "outputs": [],
   "source": [
    "# want to repeat a word 5 times\n",
    "word = `hello`\n",
    "print(hello*5)"
   ]
  },
  {
   "cell_type": "markdown",
   "metadata": {},
   "source": [
    "**2. Complete the code.** Fill the gap `--` to get the desired output."
   ]
  },
  {
   "cell_type": "code",
   "execution_count": null,
   "metadata": {
    "scrolled": true
   },
   "outputs": [],
   "source": [
    "# Output: Euler constant is 2.71828.\n",
    "e= 2.71828\n",
    "message= \"Euler constant is \"\n",
    "print(message + --(e) +'.')"
   ]
  },
  {
   "cell_type": "code",
   "execution_count": null,
   "metadata": {},
   "outputs": [],
   "source": [
    "# Output: 3\n",
    "a= 17\n",
    "b= --\n",
    "print(a%b)"
   ]
  },
  {
   "cell_type": "markdown",
   "metadata": {},
   "source": [
    "**3. The `+=` operator** (Georg Osang). \n",
    "\n",
    "Define a float variable `myFavInt`. We can use notation \n",
    "```python\n",
    "myFavInt = myFavInt + 1\n",
    "```\n",
    "to increment the value of the variable by one.\n",
    "\n",
    "There is a shorthand version for incementation\n",
    "```python\n",
    "myFavInt += 1\n",
    "```\n",
    "Check it out. Try incrementing by some other number. Try substituting the plus with a minus sign in the expression. What is the result? Try also multiplication and division. Is the expression sensitive to a spacing, and if so, where?"
   ]
  },
  {
   "cell_type": "code",
   "execution_count": null,
   "metadata": {},
   "outputs": [],
   "source": [
    "# Answer (can encompass many cells)"
   ]
  },
  {
   "cell_type": "markdown",
   "metadata": {},
   "source": [
    "**4. Square of a number** (Georg Osang). Write a small program that asks the user a number and prints the square of that number. \n",
    "\n",
    "If this works, try making it more verbose ( = to print some \"conversation\" lines)."
   ]
  },
  {
   "cell_type": "code",
   "execution_count": null,
   "metadata": {},
   "outputs": [],
   "source": [
    "# Answer (can encompass many cells)"
   ]
  },
  {
   "cell_type": "markdown",
   "metadata": {},
   "source": [
    "**5. `int`+`float`=?**\n",
    "- (a) What is the type of the sum of an `int` and a `float`?\n",
    "- (b) What is the type of an `int` divided by an `int`? Does the result depend on the considered integers?\n"
   ]
  },
  {
   "cell_type": "code",
   "execution_count": null,
   "metadata": {},
   "outputs": [],
   "source": [
    "# Answer (can encompass many cells)"
   ]
  },
  {
   "cell_type": "markdown",
   "metadata": {},
   "source": [
    "**6. Is their sum even?** An integer is *even* if it is a multiple of 2 (e.g. -4, 0, 2, 6) otherwise is *odd* (e.g. -3, 1, 5, 17). Write a program that asks for two numbers and prints  `0` when their sum is even and prints `1` when their sum is odd."
   ]
  },
  {
   "cell_type": "code",
   "execution_count": null,
   "metadata": {},
   "outputs": [],
   "source": [
    "# Answer (can encompass many cells)"
   ]
  },
  {
   "cell_type": "markdown",
   "metadata": {},
   "source": [
    "## Recommended"
   ]
  },
  {
   "cell_type": "markdown",
   "metadata": {},
   "source": [
    "**1. Basic string methods.** \n",
    "Python has many built-in methods to work with strings. For instance, the `capitalize()` method can be used to capitalize the first letter of a string:"
   ]
  },
  {
   "cell_type": "code",
   "execution_count": null,
   "metadata": {},
   "outputs": [],
   "source": [
    "\"hello\".capitalize()"
   ]
  },
  {
   "cell_type": "code",
   "execution_count": null,
   "metadata": {
    "scrolled": false
   },
   "outputs": [],
   "source": [
    "phrase=\"i am hungry.\"\n",
    "phrase.capitalize()"
   ]
  },
  {
   "cell_type": "markdown",
   "metadata": {},
   "source": [
    "As you noted, these methods can be used by adding a `.method()` just after a string. A full list of methods can be found here https://docs.python.org/3/library/stdtypes.html#string-methods\n",
    "or here\n",
    "https://www.w3schools.com/python/python_ref_string.asp."
   ]
  },
  {
   "cell_type": "markdown",
   "metadata": {},
   "source": [
    "- Find a method that converts `\"stop\"` into a string with only upper case letters."
   ]
  },
  {
   "cell_type": "code",
   "execution_count": null,
   "metadata": {},
   "outputs": [],
   "source": [
    "\"stop\".--"
   ]
  },
  {
   "cell_type": "markdown",
   "metadata": {},
   "source": [
    "- Find a method that converts the next string into a string with only lower case letters."
   ]
  },
  {
   "cell_type": "code",
   "execution_count": null,
   "metadata": {},
   "outputs": [],
   "source": [
    "\"I AM RELAXED!\".--"
   ]
  },
  {
   "cell_type": "markdown",
   "metadata": {},
   "source": [
    "- Find a method that writes the first character in each word in upper case."
   ]
  },
  {
   "cell_type": "code",
   "execution_count": null,
   "metadata": {
    "scrolled": true
   },
   "outputs": [],
   "source": [
    "\"the devil wears prada\".--"
   ]
  },
  {
   "cell_type": "markdown",
   "metadata": {},
   "source": [
    "**2. help( ):** The `help()` function displays the documentation of Python objects (including functions)."
   ]
  },
  {
   "cell_type": "code",
   "execution_count": null,
   "metadata": {
    "scrolled": true
   },
   "outputs": [],
   "source": [
    "# Running help for the print command.\n",
    "help(print)"
   ]
  },
  {
   "cell_type": "markdown",
   "metadata": {},
   "source": [
    "Although Python's documentation might look dry (and perhaps overwhelming), `help()` is very useful to deeply understand a Python object. For instance, `help(print)` tells us that `print` admits a `sep` parameter  that defines the separator between printed strings."
   ]
  },
  {
   "cell_type": "code",
   "execution_count": null,
   "metadata": {},
   "outputs": [],
   "source": [
    "print(\"An\",\"underscored\",\"phrase\")\n",
    "print(\"An\",\"underscored\",\"phrase\", sep=\"_\")"
   ]
  },
  {
   "cell_type": "markdown",
   "metadata": {},
   "source": [
    "Using  `help()`, explain  what does the function `abs()` do. Provide examples."
   ]
  },
  {
   "cell_type": "code",
   "execution_count": null,
   "metadata": {},
   "outputs": [],
   "source": [
    "# Answer (can encompass many cells)"
   ]
  },
  {
   "cell_type": "markdown",
   "metadata": {},
   "source": [
    "**3. Complete the code Part 2.** *(This exercise requires you to learn about lists and strings slicing, not covered in the lecture but covered in the notes)* Fill the gap `--` to get the desired output. "
   ]
  },
  {
   "cell_type": "code",
   "execution_count": null,
   "metadata": {},
   "outputs": [],
   "source": [
    "# Output: Some people feel the rain. Others just get wet.\n",
    "words=['pain', 'eel', 'upset', 'rain', 'feel', 'wet']\n",
    "print(\"Some people \"+ words[--] + \" the \" + words[--] + \". Others just get \" + words[--] )"
   ]
  },
  {
   "cell_type": "code",
   "execution_count": null,
   "metadata": {},
   "outputs": [],
   "source": [
    "# Output: A fish, a cat and a dog are my favourite friends.\n",
    "compound=\"catfish\"\n",
    "print(\"A \"+ compound[--] +\", a \" + compound[--] + \" and a dog are my favourite friends.\")"
   ]
  },
  {
   "cell_type": "markdown",
   "metadata": {},
   "source": [
    "**4. Web searching.** *(this exercise requires you to learn about lists, not covered in the lecture but covered in the notes. You will  look deeply into lists in Lesson 2.)*\n",
    "Programming requires to have great web searching skills. Look-up for a method that takes a list of numbers as input and finds the maximum element in the list. E.g. if the input list is `[3,6,2,1]`, the output should be `6`.\n"
   ]
  },
  {
   "cell_type": "markdown",
   "metadata": {},
   "source": [
    "## Optional"
   ]
  },
  {
   "cell_type": "markdown",
   "metadata": {},
   "source": [
    "The next two exercises come from the book *Automate the Boring Stuff with Python*, by Al Sweigart."
   ]
  },
  {
   "cell_type": "markdown",
   "metadata": {},
   "source": [
    "**1.** What does the variable `bacon` contain after the following code runs?\n",
    "```python\n",
    "bacon = 20\n",
    "bacon + 1\n",
    "```"
   ]
  },
  {
   "cell_type": "markdown",
   "metadata": {},
   "source": [
    "**2.** Why does this expression cause an error? How can you fix it?"
   ]
  },
  {
   "cell_type": "code",
   "execution_count": null,
   "metadata": {
    "slideshow": {
     "slide_type": "slide"
    }
   },
   "outputs": [],
   "source": [
    "'I have eaten ' + 99 + ' burritos.'"
   ]
  }
 ],
 "metadata": {
  "kernelspec": {
   "display_name": "Python 3",
   "language": "python",
   "name": "python3"
  },
  "language_info": {
   "codemirror_mode": {
    "name": "ipython",
    "version": 3
   },
   "file_extension": ".py",
   "mimetype": "text/x-python",
   "name": "python",
   "nbconvert_exporter": "python",
   "pygments_lexer": "ipython3",
   "version": "3.8.3"
  }
 },
 "nbformat": 4,
 "nbformat_minor": 4
}
