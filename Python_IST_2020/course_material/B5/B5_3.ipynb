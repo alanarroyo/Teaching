{
 "cells": [
  {
   "cell_type": "markdown",
   "metadata": {},
   "source": [
    "# Lesson 5:\n",
    "## An Intro to Scientific Computing and Data Visualization"
   ]
  },
  {
   "cell_type": "markdown",
   "metadata": {},
   "source": [
    "## 5.4 2D arrays"
   ]
  },
  {
   "cell_type": "markdown",
   "metadata": {},
   "source": [
    " ### 5.4.1 Introduction"
   ]
  },
  {
   "cell_type": "markdown",
   "metadata": {},
   "source": [
    ">*``The Matrix is everywhere. It is all around us. Even now, in this very room. You can see it? when you look out your window or when you turn on your television. You can feel it when you ?go to work... when you go to church... when you pay your taxes.\"*\n",
    ">\n",
    ">Morpheus, The Matrix"
   ]
  },
  {
   "cell_type": "markdown",
   "metadata": {},
   "source": [
    "Matrices are also everywhere:  Data Analysis, biological and physical models,  Machine Learning algorithms- you name it! In this lesson we will use NumPy to create, manipulate and transform matrices. In NumPy we will refer to matrices as *2D arrays*."
   ]
  },
  {
   "cell_type": "markdown",
   "metadata": {},
   "source": [
    "### 5.4.2 What is a matrix?"
   ]
  },
  {
   "cell_type": "markdown",
   "metadata": {},
   "source": [
    "\n",
    "A matrix is a collection of values arranged in a rectangular way. Examples:\n",
    "\n",
    "$$A=\\begin{pmatrix}\n",
    "  2 & 7 & 6 \\\\\n",
    "  9 & 5 & 1 \\\\\n",
    "  4 & 3 & 8\n",
    "\\end{pmatrix}, \\hspace{0.5cm}\n",
    "B=\\begin{pmatrix}\n",
    "1 & 0 & 1 & 0 & 1 & 0 & 1\\\\\n",
    "0 & 1 & 1 & 0 & 0 & 1 & 1\\\\\n",
    "0 & 0 & 0 & 1 & 1 & 1& 1\n",
    "\\end{pmatrix}, \\hspace{0.5cm}\n",
    "C=\\begin{pmatrix}\n",
    " 2 & 3\n",
    "\\end{pmatrix}, \\hspace{0.5cm}\n",
    "D=\\begin{pmatrix}\n",
    "True \\\\\n",
    "False \\\\\n",
    "True\n",
    "\\end{pmatrix}, \\hspace{0.5cm}\n",
    "E=\\begin{pmatrix}\n",
    "\\pi\n",
    "\\end{pmatrix}\n",
    "$$"
   ]
  },
  {
   "cell_type": "markdown",
   "metadata": {},
   "source": [
    "If a matrix $A$ has $m$ rows and $n$ columns, then we say that $A$ is an $m\\times n$-matrix.  In NumPy-jargon,  the *shape* of $A$ is defined as $(m,n)$."
   ]
  },
  {
   "cell_type": "markdown",
   "metadata": {},
   "source": [
    "### 5.4.2  Creating 2D arrays from lists"
   ]
  },
  {
   "cell_type": "markdown",
   "metadata": {},
   "source": [
    "We create matrices (that we call 2D arrays in the context of NumPy) with the `np.array` function. To create a 2D array we provide as input a list of lists, where each list-element is row of the desired 2D array:"
   ]
  },
  {
   "cell_type": "code",
   "execution_count": 4,
   "metadata": {},
   "outputs": [
    {
     "name": "stdout",
     "output_type": "stream",
     "text": [
      "[[2 7 6]\n",
      " [9 5 1]\n",
      " [4 3 8]]\n"
     ]
    }
   ],
   "source": [
    "import numpy as np\n",
    "import matplotlib.pyplot as plt\n",
    "\n",
    "A=np.array([[2,7,6],[9,5,1],[4,3,8]])\n",
    "print(A)"
   ]
  },
  {
   "cell_type": "markdown",
   "metadata": {},
   "source": [
    "**Quiz:** Now is your turn.  Build\n",
    "one of the matrices from the previous subsection a 2D array."
   ]
  },
  {
   "cell_type": "markdown",
   "metadata": {},
   "source": [
    "### 5.4.3 Running example: Images and matrices"
   ]
  },
  {
   "cell_type": "markdown",
   "metadata": {},
   "source": [
    "To have some fun we will use matrices to manipulate images with Python (Yes! digital images are also matrices). "
   ]
  },
  {
   "cell_type": "markdown",
   "metadata": {},
   "source": [
    "#### Black and White images"
   ]
  },
  {
   "cell_type": "markdown",
   "metadata": {},
   "source": [
    "First, let us understand how to encode a black and white image as a matrix. A digital image can be thinked as a rectangular array made of little squares called *pixels*. Each pixel is colored black or white depending if its entry is $0$ or $1$."
   ]
  },
  {
   "cell_type": "markdown",
   "metadata": {},
   "source": [
    "<center>\n",
    "        <img src=\"img/felix_the_cat_matrix.gif\" width=\"800\" align=\"center\"/>\n",
    "<center>"
   ]
  },
  {
   "cell_type": "markdown",
   "metadata": {},
   "source": [
    "Next we draw a $2\\times2$ image from a 2D array:"
   ]
  },
  {
   "cell_type": "code",
   "execution_count": 3,
   "metadata": {
    "scrolled": true
   },
   "outputs": [
    {
     "name": "stdout",
     "output_type": "stream",
     "text": [
      "[[0 1]\n",
      " [1 0]]\n"
     ]
    }
   ],
   "source": [
    "tiny_img=np.array([[0,1],[1,0]])\n",
    "print(tiny_img)"
   ]
  },
  {
   "cell_type": "markdown",
   "metadata": {},
   "source": [
    "We can now use Matplotlib's `plt.imshow` function to display this image."
   ]
  },
  {
   "cell_type": "code",
   "execution_count": 4,
   "metadata": {},
   "outputs": [
    {
     "data": {
      "image/png": "[encoded data removed]",
      "text/plain": [
       "<Figure size 432x288 with 1 Axes>"
      ]
     },
     "metadata": {
      "needs_background": "light"
     },
     "output_type": "display_data"
    }
   ],
   "source": [
    "plt.imshow(tiny_img,cmap='gray') #  cmap='gray' argument tells matplotlib to display the image in grayscale\n",
    "plt.show()"
   ]
  },
  {
   "cell_type": "markdown",
   "metadata": {},
   "source": [
    "One can also display the image without axis by adding the `plt.axis('off')` option:"
   ]
  },
  {
   "cell_type": "code",
   "execution_count": 5,
   "metadata": {},
   "outputs": [
    {
     "data": {
      "image/png": "[encoded data removed]",
      "text/plain": [
       "<Figure size 432x288 with 1 Axes>"
      ]
     },
     "metadata": {
      "needs_background": "light"
     },
     "output_type": "display_data"
    }
   ],
   "source": [
    "plt.imshow(tiny_img,cmap='gray') #  cmap='gray' argument tells matplotlib to display the image in grayscale\n",
    "plt.axis('off')\n",
    "plt.show()"
   ]
  },
  {
   "cell_type": "markdown",
   "metadata": {},
   "source": [
    "<div class=\"alert alert-block alert-info\">\n",
    "<b>Quiz:</b> Build a $8\\times 8$ chessboard. Can you do this using `if` and `for`  without explicitly writing the matrix?\n",
    "</div>\n"
   ]
  },
  {
   "cell_type": "markdown",
   "metadata": {},
   "source": [
    "#### Grayscale images"
   ]
  },
  {
   "cell_type": "markdown",
   "metadata": {},
   "source": [
    "To encode grayscale images we will consider matrices with float entries in the $[0,1]$ interval. Each entry encodes the *intensity* of a pixel. Entries close to $0$ are dark while entries close to $1$ are bright. "
   ]
  },
  {
   "cell_type": "markdown",
   "metadata": {},
   "source": [
    "Here is  a toy example of a grayscale 2D array:"
   ]
  },
  {
   "cell_type": "code",
   "execution_count": 6,
   "metadata": {
    "scrolled": true
   },
   "outputs": [
    {
     "data": {
      "image/png": "[encoded data removed]",
      "text/plain": [
       "<Figure size 432x288 with 1 Axes>"
      ]
     },
     "metadata": {
      "needs_background": "light"
     },
     "output_type": "display_data"
    }
   ],
   "source": [
    "gray_tiny_img=np.array([[1,0.75],[0.25,0]])\n",
    "\n",
    "plt.imshow(gray_tiny_img,cmap='gray')\n",
    "plt.axis('off')\n",
    "plt.show()"
   ]
  },
  {
   "cell_type": "markdown",
   "metadata": {},
   "source": [
    "#### Importing an image"
   ]
  },
  {
   "cell_type": "markdown",
   "metadata": {},
   "source": [
    " Matplotlib's `plt.imread()` function takes the file location as input, and convert it into 3D NumPy array. Why 3D? Because color images have more parameters, but we won't go into details.  We will simply use the `rgb2gray` method from the `skimage` library\n",
    " to convert the image into grayscale:"
   ]
  },
  {
   "cell_type": "code",
   "execution_count": 8,
   "metadata": {},
   "outputs": [],
   "source": [
    "chaplin_color_img=plt.imread('Chaplin_The_Kid.jpg') # Read image file and store it as a 3D array.\n",
    "from skimage.color import rgb2gray # Import funtion from library for converting to grayscale\n",
    "chaplin=rgb2gray(chaplin_color_img) # Convert image into grayscale and save it as chaplin"
   ]
  },
  {
   "cell_type": "markdown",
   "metadata": {},
   "source": [
    "We can print a snapshot of `chaplin` NumPy array."
   ]
  },
  {
   "cell_type": "code",
   "execution_count": 9,
   "metadata": {},
   "outputs": [
    {
     "name": "stdout",
     "output_type": "stream",
     "text": [
      "[[0.42352941 0.42352941 0.42352941 ... 0.72941176 0.74117647 0.75294118]\n",
      " [0.42352941 0.41960784 0.41176471 ... 0.72156863 0.72941176 0.74117647]\n",
      " [0.42352941 0.41176471 0.39607843 ... 0.71372549 0.72156863 0.72941176]\n",
      " ...\n",
      " [0.99607843 0.99607843 0.99607843 ... 0.8745098  0.86666667 0.90980392]\n",
      " [0.99607843 0.99607843 0.99607843 ... 0.8745098  0.87058824 0.88627451]\n",
      " [0.99607843 0.99607843 0.99607843 ... 0.87058824 0.8745098  0.86666667]]\n"
     ]
    }
   ],
   "source": [
    "print(chaplin)"
   ]
  },
  {
   "cell_type": "markdown",
   "metadata": {},
   "source": [
    "This matrix does not tell us much about the image. Let us use the `plt.imshow` function to look at it."
   ]
  },
  {
   "cell_type": "code",
   "execution_count": 10,
   "metadata": {
    "scrolled": true
   },
   "outputs": [
    {
     "data": {
      "image/png": "[encoded data removed]",
      "text/plain": [
       "<Figure size 432x288 with 1 Axes>"
      ]
     },
     "metadata": {
      "needs_background": "light"
     },
     "output_type": "display_data"
    }
   ],
   "source": [
    "plt.imshow(chaplin,cmap='gray')\n",
    "plt.axis('off')\n",
    "plt.show()"
   ]
  },
  {
   "cell_type": "markdown",
   "metadata": {},
   "source": [
    "### 5.4.3  Shape and size"
   ]
  },
  {
   "cell_type": "markdown",
   "metadata": {},
   "source": [
    "To obtain the shape (dimensions) of a matrix one can use the `.shape` attribute:"
   ]
  },
  {
   "cell_type": "code",
   "execution_count": 18,
   "metadata": {},
   "outputs": [
    {
     "name": "stdout",
     "output_type": "stream",
     "text": [
      "(3, 3)\n"
     ]
    }
   ],
   "source": [
    "A=np.array([[2,7,6],[9,5,1],[4,3,8]])\n",
    "print(A.shape)"
   ]
  },
  {
   "cell_type": "code",
   "execution_count": 19,
   "metadata": {},
   "outputs": [
    {
     "name": "stdout",
     "output_type": "stream",
     "text": [
      "(3, 7)\n"
     ]
    }
   ],
   "source": [
    "B=np.array([\n",
    "[1, 0, 1, 0, 1, 0, 1],\n",
    "[0, 1, 1, 0, 0, 1, 1],\n",
    "[0, 0, 0, 1, 1, 1, 1]\n",
    "])\n",
    "print(B.shape)"
   ]
  },
  {
   "cell_type": "markdown",
   "metadata": {},
   "source": [
    "The number of entries in a matrix is obtained using the `.size` atribute:"
   ]
  },
  {
   "cell_type": "code",
   "execution_count": 20,
   "metadata": {
    "scrolled": true
   },
   "outputs": [
    {
     "name": "stdout",
     "output_type": "stream",
     "text": [
      "9\n",
      "21\n"
     ]
    }
   ],
   "source": [
    "print(A.size)\n",
    "print(B.size)"
   ]
  },
  {
   "cell_type": "markdown",
   "metadata": {},
   "source": [
    "We can now find the dimensions and number of pixels in an image:"
   ]
  },
  {
   "cell_type": "code",
   "execution_count": 26,
   "metadata": {},
   "outputs": [
    {
     "name": "stdout",
     "output_type": "stream",
     "text": [
      "Chaplin's image has shape (2272, 1680)\n",
      "Chaplin's image has 3816960 pixels\n"
     ]
    }
   ],
   "source": [
    "print(\"Chaplin's image has shape\", chaplin.shape)\n",
    "print(\"Chaplin's image has\", chaplin.size, \"pixels\")"
   ]
  },
  {
   "cell_type": "markdown",
   "metadata": {},
   "source": [
    "### 5.4.4 Creating 2D arrays using NumPy functions"
   ]
  },
  {
   "cell_type": "markdown",
   "metadata": {},
   "source": [
    "Many of the methods that we used to create 1D arrays also work for creating 2D arrays. As a\n",
    "rule of thumb,  we should replace the argument specifying the length the desired 1D array by a tuple specifying its shape."
   ]
  },
  {
   "cell_type": "code",
   "execution_count": 8,
   "metadata": {},
   "outputs": [
    {
     "data": {
      "text/plain": [
       "array([[0., 0., 0., 0.],\n",
       "       [0., 0., 0., 0.],\n",
       "       [0., 0., 0., 0.]])"
      ]
     },
     "execution_count": 8,
     "metadata": {},
     "output_type": "execute_result"
    }
   ],
   "source": [
    "np.zeros((3,4))"
   ]
  },
  {
   "cell_type": "code",
   "execution_count": 9,
   "metadata": {},
   "outputs": [
    {
     "data": {
      "text/plain": [
       "array([[1., 1.],\n",
       "       [1., 1.],\n",
       "       [1., 1.],\n",
       "       [1., 1.],\n",
       "       [1., 1.]])"
      ]
     },
     "execution_count": 9,
     "metadata": {},
     "output_type": "execute_result"
    }
   ],
   "source": [
    "np.ones((5,2))"
   ]
  },
  {
   "cell_type": "code",
   "execution_count": 10,
   "metadata": {},
   "outputs": [
    {
     "data": {
      "text/plain": [
       "array([[0.77934255, 0.50283304, 0.48136721, 0.01041074],\n",
       "       [0.61577233, 0.35316723, 0.29220472, 0.81581393],\n",
       "       [0.9571848 , 0.43583912, 0.13772508, 0.11130462]])"
      ]
     },
     "execution_count": 10,
     "metadata": {},
     "output_type": "execute_result"
    }
   ],
   "source": [
    "np.random.random((3,4))"
   ]
  },
  {
   "cell_type": "markdown",
   "metadata": {},
   "source": [
    "With  `np.eye(n)` we can create an $n\\times n$ identity matrix with 1s in its diagonal and 0s in the remaining entries:"
   ]
  },
  {
   "cell_type": "code",
   "execution_count": 20,
   "metadata": {
    "scrolled": false
   },
   "outputs": [
    {
     "name": "stdout",
     "output_type": "stream",
     "text": [
      "[[1. 0. 0. 0. 0. 0. 0. 0. 0. 0.]\n",
      " [0. 1. 0. 0. 0. 0. 0. 0. 0. 0.]\n",
      " [0. 0. 1. 0. 0. 0. 0. 0. 0. 0.]\n",
      " [0. 0. 0. 1. 0. 0. 0. 0. 0. 0.]\n",
      " [0. 0. 0. 0. 1. 0. 0. 0. 0. 0.]\n",
      " [0. 0. 0. 0. 0. 1. 0. 0. 0. 0.]\n",
      " [0. 0. 0. 0. 0. 0. 1. 0. 0. 0.]\n",
      " [0. 0. 0. 0. 0. 0. 0. 1. 0. 0.]\n",
      " [0. 0. 0. 0. 0. 0. 0. 0. 1. 0.]\n",
      " [0. 0. 0. 0. 0. 0. 0. 0. 0. 1.]]\n"
     ]
    }
   ],
   "source": [
    "id_10=np.eye(10)\n",
    "print(id_10)"
   ]
  },
  {
   "cell_type": "markdown",
   "metadata": {},
   "source": [
    "### 5.4.5 Accessing values of a 2D array"
   ]
  },
  {
   "cell_type": "markdown",
   "metadata": {},
   "source": [
    "One can access to single elements from a matrix by using a comma-separated tuple of indices. It important to remember that rows and columns are ordered starting from 0. Consider the following 2D array:"
   ]
  },
  {
   "cell_type": "markdown",
   "metadata": {},
   "source": [
    "We see next how to access the values of an specific 2D array:"
   ]
  },
  {
   "cell_type": "code",
   "execution_count": 5,
   "metadata": {},
   "outputs": [],
   "source": [
    "A=np.array(\n",
    "    [[2,7,6],\n",
    "     [9,5,1],\n",
    "     [4,3,8]])"
   ]
  },
  {
   "cell_type": "markdown",
   "metadata": {},
   "source": [
    "We access its (0,0) entry as follows"
   ]
  },
  {
   "cell_type": "code",
   "execution_count": 82,
   "metadata": {},
   "outputs": [
    {
     "data": {
      "text/plain": [
       "2"
      ]
     },
     "execution_count": 82,
     "metadata": {},
     "output_type": "execute_result"
    }
   ],
   "source": [
    "A[0,0]"
   ]
  },
  {
   "cell_type": "markdown",
   "metadata": {},
   "source": [
    "and we access its (1,2) entry"
   ]
  },
  {
   "cell_type": "code",
   "execution_count": 84,
   "metadata": {
    "scrolled": true
   },
   "outputs": [
    {
     "data": {
      "text/plain": [
       "1"
      ]
     },
     "execution_count": 84,
     "metadata": {},
     "output_type": "execute_result"
    }
   ],
   "source": [
    "A[1,2]"
   ]
  },
  {
   "cell_type": "markdown",
   "metadata": {},
   "source": [
    "In general, we access the $(i,j)$ entry of a 2D array by adding the `[i,j]` notation after the name of array. Remember,  Python labels colums and rows starting from $0$."
   ]
  },
  {
   "cell_type": "markdown",
   "metadata": {},
   "source": [
    "Also, since a 2D array is a list of lists, we can alternatively access as follows:"
   ]
  },
  {
   "cell_type": "code",
   "execution_count": 5,
   "metadata": {},
   "outputs": [
    {
     "data": {
      "text/plain": [
       "1"
      ]
     },
     "execution_count": 5,
     "metadata": {},
     "output_type": "execute_result"
    }
   ],
   "source": [
    "A[1][2]"
   ]
  },
  {
   "cell_type": "markdown",
   "metadata": {},
   "source": [
    "We can also modify a single entry as follows:"
   ]
  },
  {
   "cell_type": "code",
   "execution_count": 87,
   "metadata": {},
   "outputs": [
    {
     "name": "stdout",
     "output_type": "stream",
     "text": [
      "[[2 7 6]\n",
      " [9 0 1]\n",
      " [4 3 8]]\n"
     ]
    }
   ],
   "source": [
    "A[1,1]=0\n",
    "print(A)"
   ]
  },
  {
   "cell_type": "markdown",
   "metadata": {},
   "source": [
    "### 5.4.6  Slicing"
   ]
  },
  {
   "cell_type": "markdown",
   "metadata": {},
   "source": [
    "Sometimes it is convenient to restrict a 2D array into a subarray. For this we will use the following accessing mechanism described in the following template:\n",
    "\n",
    "``\n",
    "array[start_row:end_row, start_column:end_column]\n",
    "``\n",
    "\n",
    "In words this reads as accessing the subarray of `array` from row `start_row` to `end_row` (including `start_row` but excluding `end_row`) and from column `start_column` to `end_column` (including `start_column` but excluding `end_column`). Let us look at a few examples:"
   ]
  },
  {
   "cell_type": "code",
   "execution_count": 88,
   "metadata": {},
   "outputs": [
    {
     "name": "stdout",
     "output_type": "stream",
     "text": [
      "[[2 7 6]\n",
      " [9 0 1]\n",
      " [4 3 8]]\n"
     ]
    }
   ],
   "source": [
    "print(A)"
   ]
  },
  {
   "cell_type": "code",
   "execution_count": 90,
   "metadata": {},
   "outputs": [
    {
     "name": "stdout",
     "output_type": "stream",
     "text": [
      "[[2 7]\n",
      " [9 0]]\n"
     ]
    }
   ],
   "source": [
    "print( A[0:2,0:2] )"
   ]
  },
  {
   "cell_type": "code",
   "execution_count": 92,
   "metadata": {},
   "outputs": [
    {
     "name": "stdout",
     "output_type": "stream",
     "text": [
      "[[2 7 6]\n",
      " [9 0 1]]\n"
     ]
    }
   ],
   "source": [
    "print(A[0:2,0:3])"
   ]
  },
  {
   "cell_type": "markdown",
   "metadata": {},
   "source": [
    "The same tricks as for slicing strings and lists apply to 2D arrays:"
   ]
  },
  {
   "cell_type": "code",
   "execution_count": 6,
   "metadata": {},
   "outputs": [
    {
     "name": "stdout",
     "output_type": "stream",
     "text": [
      "[[2 7 6]\n",
      " [9 5 1]]\n"
     ]
    }
   ],
   "source": [
    "print(A[:2,-3:])"
   ]
  },
  {
   "cell_type": "markdown",
   "metadata": {},
   "source": [
    "We can also use slicing to modify entries of a matrix...\n"
   ]
  },
  {
   "cell_type": "code",
   "execution_count": 95,
   "metadata": {},
   "outputs": [
    {
     "name": "stdout",
     "output_type": "stream",
     "text": [
      "[[1 0 6]\n",
      " [0 1 1]\n",
      " [4 3 8]]\n"
     ]
    }
   ],
   "source": [
    "A[0:2,0:2]=np.eye(2)\n",
    "print(A)"
   ]
  },
  {
   "cell_type": "markdown",
   "metadata": {},
   "source": [
    "...or even we can let all the entries of a subarray to be the same:"
   ]
  },
  {
   "cell_type": "code",
   "execution_count": 99,
   "metadata": {},
   "outputs": [
    {
     "name": "stdout",
     "output_type": "stream",
     "text": [
      "[[ 1  0  6]\n",
      " [ 0 23 23]\n",
      " [ 4 23 23]]\n"
     ]
    }
   ],
   "source": [
    "A[1:3,1:3]=23\n",
    "print(A)"
   ]
  },
  {
   "cell_type": "markdown",
   "metadata": {},
   "source": [
    "**Quick quiz:** How do you set all the entries of the first column of `A` to be all 1s."
   ]
  },
  {
   "cell_type": "markdown",
   "metadata": {},
   "source": [
    "### 5.4.7 Viewing and copying subarrays"
   ]
  },
  {
   "cell_type": "markdown",
   "metadata": {},
   "source": [
    "We can define a variable to be a subarray of a given 2D array:"
   ]
  },
  {
   "cell_type": "code",
   "execution_count": 102,
   "metadata": {},
   "outputs": [
    {
     "name": "stdout",
     "output_type": "stream",
     "text": [
      "[[2 7]\n",
      " [9 5]]\n"
     ]
    }
   ],
   "source": [
    "A=np.array(\n",
    "    [[2,7,6],\n",
    "     [9,5,1],\n",
    "     [4,3,8]])\n",
    "\n",
    "B=A[:2,:2]\n",
    "print(B)"
   ]
  },
  {
   "cell_type": "markdown",
   "metadata": {},
   "source": [
    "We remark that `B` \"views\" a subarray of `A` and not a copy of a subarray of `A`. For instance, modifying an entry of `B` also modifies an entry of `A`."
   ]
  },
  {
   "cell_type": "code",
   "execution_count": 105,
   "metadata": {},
   "outputs": [
    {
     "name": "stdout",
     "output_type": "stream",
     "text": [
      "[[  2   7   6]\n",
      " [  9 100   1]\n",
      " [  4   3   8]]\n"
     ]
    }
   ],
   "source": [
    "B[1,1]=100\n",
    "print(A)"
   ]
  },
  {
   "cell_type": "markdown",
   "metadata": {},
   "source": [
    "The **.copy()** method creates a new copy of a subarray of `A`."
   ]
  },
  {
   "cell_type": "code",
   "execution_count": 7,
   "metadata": {},
   "outputs": [
    {
     "name": "stdout",
     "output_type": "stream",
     "text": [
      "[[2 7 6]\n",
      " [9 5 1]\n",
      " [4 3 8]]\n",
      "[[  2   7]\n",
      " [  9 100]]\n"
     ]
    }
   ],
   "source": [
    "A=np.array(\n",
    "    [[2,7,6],\n",
    "     [9,5,1],\n",
    "     [4,3,8]])\n",
    "\n",
    "B=A[:2,:2].copy()\n",
    "\n",
    "B[1,1]=100\n",
    "\n",
    "\n",
    "print(A)\n",
    "print(B)\n"
   ]
  },
  {
   "cell_type": "markdown",
   "metadata": {},
   "source": [
    "<div class=\"alert alert-block alert-info\">\n",
    "<b>Quiz:</b> Write a program that crops `chaplin` and shows only Chaplin's face as output. (Hint: Remove `plt.axis('off')` )\n",
    "</div>"
   ]
  },
  {
   "cell_type": "markdown",
   "metadata": {},
   "source": [
    "### 5.4.8 Concatenatenating and stacking"
   ]
  },
  {
   "cell_type": "markdown",
   "metadata": {},
   "source": [
    "We concatenate 1D arrays using the `np.concatenate(a,b)` method:"
   ]
  },
  {
   "cell_type": "code",
   "execution_count": 9,
   "metadata": {
    "scrolled": true
   },
   "outputs": [
    {
     "data": {
      "text/plain": [
       "array([1, 2, 3, 4, 5, 6, 7, 8, 9])"
      ]
     },
     "execution_count": 9,
     "metadata": {},
     "output_type": "execute_result"
    }
   ],
   "source": [
    "a=np.array([1,2,3])\n",
    "b=np.array([4,5,6])\n",
    "c=np.array([7,8,9])\n",
    "np.concatenate([a,b,c])"
   ]
  },
  {
   "cell_type": "markdown",
   "metadata": {},
   "source": [
    "We can also use this method to concatenate 2D arrays, however, for this one needs to specify the axis:\n",
    "\n"
   ]
  },
  {
   "cell_type": "code",
   "execution_count": 11,
   "metadata": {},
   "outputs": [],
   "source": [
    "identity=np.eye(3)\n",
    "A=np.array([[2,7,6],[9,5,1],[4,3,8]])"
   ]
  },
  {
   "cell_type": "code",
   "execution_count": 13,
   "metadata": {},
   "outputs": [
    {
     "data": {
      "text/plain": [
       "array([[1., 0., 0.],\n",
       "       [0., 1., 0.],\n",
       "       [0., 0., 1.],\n",
       "       [2., 7., 6.],\n",
       "       [9., 5., 1.],\n",
       "       [4., 3., 8.]])"
      ]
     },
     "execution_count": 13,
     "metadata": {},
     "output_type": "execute_result"
    }
   ],
   "source": [
    "np.concatenate([identity,A], axis=0)"
   ]
  },
  {
   "cell_type": "code",
   "execution_count": 14,
   "metadata": {},
   "outputs": [
    {
     "data": {
      "text/plain": [
       "array([[1., 0., 0., 2., 7., 6.],\n",
       "       [0., 1., 0., 9., 5., 1.],\n",
       "       [0., 0., 1., 4., 3., 8.]])"
      ]
     },
     "execution_count": 14,
     "metadata": {},
     "output_type": "execute_result"
    }
   ],
   "source": [
    "np.concatenate([identity,A], axis=1)"
   ]
  },
  {
   "cell_type": "markdown",
   "metadata": {},
   "source": [
    "As the axis approach could be very confusing, it is adviced to use the `np.vstack` and `np.hstack` for this:"
   ]
  },
  {
   "cell_type": "code",
   "execution_count": 18,
   "metadata": {
    "scrolled": true
   },
   "outputs": [
    {
     "data": {
      "text/plain": [
       "array([[1., 0., 0.],\n",
       "       [0., 1., 0.],\n",
       "       [0., 0., 1.],\n",
       "       [2., 7., 6.],\n",
       "       [9., 5., 1.],\n",
       "       [4., 3., 8.]])"
      ]
     },
     "execution_count": 18,
     "metadata": {},
     "output_type": "execute_result"
    }
   ],
   "source": [
    "np.vstack([identity,A])"
   ]
  },
  {
   "cell_type": "code",
   "execution_count": 19,
   "metadata": {
    "scrolled": true
   },
   "outputs": [
    {
     "data": {
      "text/plain": [
       "array([[1., 0., 0., 2., 7., 6.],\n",
       "       [0., 1., 0., 9., 5., 1.],\n",
       "       [0., 0., 1., 4., 3., 8.]])"
      ]
     },
     "execution_count": 19,
     "metadata": {},
     "output_type": "execute_result"
    }
   ],
   "source": [
    "np.hstack([identity,A])"
   ]
  },
  {
   "cell_type": "code",
   "execution_count": null,
   "metadata": {},
   "outputs": [],
   "source": []
  }
 ],
 "metadata": {
  "kernelspec": {
   "display_name": "Python 3",
   "language": "python",
   "name": "python3"
  },
  "language_info": {
   "codemirror_mode": {
    "name": "ipython",
    "version": 3
   },
   "file_extension": ".py",
   "mimetype": "text/x-python",
   "name": "python",
   "nbconvert_exporter": "python",
   "pygments_lexer": "ipython3",
   "version": "3.8.3"
  }
 },
 "nbformat": 4,
 "nbformat_minor": 4
}
