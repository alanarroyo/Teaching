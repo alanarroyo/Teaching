{
 "cells": [
  {
   "cell_type": "markdown",
   "metadata": {},
   "source": [
    "# Lesson 5: \n",
    "## An Intro to Scientific Computing and Data Visualization "
   ]
  },
  {
   "cell_type": "markdown",
   "metadata": {},
   "source": [
    "## 5.1 Introduction\n"
   ]
  },
  {
   "cell_type": "markdown",
   "metadata": {},
   "source": [
    "Python do wonderful things on its own but it reaches its full potential when *libraries* are used. \n",
    "\n",
    "**What is a library?**\n",
    "\n",
    "A *library*  is a collection of methods that can be loaded to perform new tasks. For instance, Python has no built-in functions for computing square roots (say $ \\sqrt{2}$), multiplying matrices or for drawing a scatter plot.\n",
    "\n",
    "\n",
    "\n",
    "With libraries, Python can perform tasks ranging from Cryptography to Game Development. In this lesson, we will focus on two libraries extremely useful for almost any kind of scientific endeavour: \n",
    "\n",
    "- **NumPy:** Designed for numerical computing, NumPy provides a wide spectrum of tools. From math functions such as $\\sin(x)$, $\\cos(x)$, $\\log(x)$, $e^x$, to the capability for working with matrices and to sample random numbers.\n",
    "\n",
    "- **Matplotlib**: An easy-to-use library for data visualization.\n",
    "\n",
    "After this lesson you should be able to know how to import a library, do some basic plotting, efficiently perform array and matrix operations, read data from a spreadsheet,\n",
    "and to generate an array with random numbers.\n",
    "\n",
    "\n",
    "[comment]: <> (Examples: Data manipulation and analysis 'Pandas',  Machine Learning 'scikit-learn'  more data visualization: https://matplotlib.org/thirdpartypackages/index.html\n",
    ")"
   ]
  },
  {
   "cell_type": "markdown",
   "metadata": {},
   "source": [
    "## 5.2 Importing libraries"
   ]
  },
  {
   "cell_type": "markdown",
   "metadata": {},
   "source": [
    "Importing libraries comes in two stages. First,  we install the library in our computer (this already happened if you installed Python along with Anaconda). Second, we call the library in Python, which is the topic of this lesson."
   ]
  },
  {
   "cell_type": "markdown",
   "metadata": {},
   "source": [
    "### 5.2.1 Basics"
   ]
  },
  {
   "cell_type": "markdown",
   "metadata": {},
   "source": [
    "To use a library we use the `import` command:"
   ]
  },
  {
   "cell_type": "markdown",
   "metadata": {},
   "source": [
    "\n",
    "\n",
    "```python\n",
    "import library_name\n",
    "```\n"
   ]
  },
  {
   "cell_type": "markdown",
   "metadata": {},
   "source": [
    "By convention, all the import commands should occur at the beggining of a script."
   ]
  },
  {
   "cell_type": "markdown",
   "metadata": {},
   "source": [
    "To import NumPy we run the following:"
   ]
  },
  {
   "cell_type": "code",
   "execution_count": 2,
   "metadata": {},
   "outputs": [],
   "source": [
    "import numpy"
   ]
  },
  {
   "cell_type": "markdown",
   "metadata": {},
   "source": [
    "After NumPy is imported we can use its functions. For example, `numpy.sqrt()` computes the square root of a number:"
   ]
  },
  {
   "cell_type": "code",
   "execution_count": 3,
   "metadata": {
    "scrolled": true
   },
   "outputs": [
    {
     "data": {
      "text/plain": [
       "1.4142135623730951"
      ]
     },
     "execution_count": 3,
     "metadata": {},
     "output_type": "execute_result"
    }
   ],
   "source": [
    "# Compute the square root of 2:\n",
    "numpy.sqrt(2)"
   ]
  },
  {
   "cell_type": "markdown",
   "metadata": {},
   "source": [
    "Note that `numpy.sqrt()` has the `numpy` prefix identifying that `sqrt()` is a function  from the NumPy library. "
   ]
  },
  {
   "cell_type": "markdown",
   "metadata": {},
   "source": [
    "We can also import other type of \"abstract\" entieties such as mathematical constants. The following calls a float approximating $\\pi$:"
   ]
  },
  {
   "cell_type": "code",
   "execution_count": 3,
   "metadata": {},
   "outputs": [
    {
     "data": {
      "text/plain": [
       "3.141592653589793"
      ]
     },
     "execution_count": 3,
     "metadata": {},
     "output_type": "execute_result"
    }
   ],
   "source": [
    "numpy.pi"
   ]
  },
  {
   "cell_type": "markdown",
   "metadata": {},
   "source": [
    "**Quiz:** Recall that the area of a circle of radius $r$ is $2 r\\pi$. Build a function `get_circle_area(radius)` that takes one argument `radius` and returns the area of a circle of radius `radius`."
   ]
  },
  {
   "cell_type": "markdown",
   "metadata": {},
   "source": [
    "A common error when using libraries is to use their functions before importing them. It produces an error like the following:"
   ]
  },
  {
   "cell_type": "code",
   "execution_count": 2,
   "metadata": {},
   "outputs": [
    {
     "ename": "NameError",
     "evalue": "name 'string' is not defined",
     "output_type": "error",
     "traceback": [
      "\u001b[0;31m---------------------------------------------------------------------------\u001b[0m",
      "\u001b[0;31mNameError\u001b[0m                                 Traceback (most recent call last)",
      "\u001b[0;32m<ipython-input-2-049701b62cb2>\u001b[0m in \u001b[0;36m<module>\u001b[0;34m\u001b[0m\n\u001b[0;32m----> 1\u001b[0;31m \u001b[0mstring\u001b[0m\u001b[0;34m.\u001b[0m\u001b[0mcapwords\u001b[0m\u001b[0;34m(\u001b[0m\u001b[0;34m'not a proper title'\u001b[0m\u001b[0;34m)\u001b[0m\u001b[0;34m\u001b[0m\u001b[0;34m\u001b[0m\u001b[0m\n\u001b[0m",
      "\u001b[0;31mNameError\u001b[0m: name 'string' is not defined"
     ]
    }
   ],
   "source": [
    "string.capwords('not a proper title')"
   ]
  },
  {
   "cell_type": "markdown",
   "metadata": {},
   "source": [
    "The `string.capwords()` method comes from the `string` library. Here is the correct way to execute it:"
   ]
  },
  {
   "cell_type": "code",
   "execution_count": 4,
   "metadata": {},
   "outputs": [
    {
     "data": {
      "text/plain": [
       "'Not A Proper Title'"
      ]
     },
     "execution_count": 4,
     "metadata": {},
     "output_type": "execute_result"
    }
   ],
   "source": [
    "import string\n",
    "string.capwords('not a proper title')"
   ]
  },
  {
   "cell_type": "markdown",
   "metadata": {},
   "source": [
    "### 5.2.2 Aliasing"
   ]
  },
  {
   "cell_type": "markdown",
   "metadata": {},
   "source": [
    "It is very common to abbreviate the name of a library. This is known as *aliasing*. For instance, it is a convention to abbreviate `numpy` as `np`. So people import NumPy as follows."
   ]
  },
  {
   "cell_type": "code",
   "execution_count": 3,
   "metadata": {},
   "outputs": [],
   "source": [
    "import numpy as np"
   ]
  },
  {
   "cell_type": "markdown",
   "metadata": {},
   "source": [
    "After that, one should use the new alias to call functions. Example:"
   ]
  },
  {
   "cell_type": "code",
   "execution_count": 5,
   "metadata": {},
   "outputs": [
    {
     "data": {
      "text/plain": [
       "0.6931471805599453"
      ]
     },
     "execution_count": 5,
     "metadata": {},
     "output_type": "execute_result"
    }
   ],
   "source": [
    "#Compute the natural logarithm of 2:\n",
    "np.log(2)"
   ]
  },
  {
   "cell_type": "markdown",
   "metadata": {},
   "source": [
    "Another convention we follow is to import Matplotlib as in the next line:"
   ]
  },
  {
   "cell_type": "code",
   "execution_count": 6,
   "metadata": {},
   "outputs": [],
   "source": [
    "import matplotlib.pyplot as plt"
   ]
  },
  {
   "cell_type": "markdown",
   "metadata": {},
   "source": [
    "### 5.2.3 Import specific functions"
   ]
  },
  {
   "cell_type": "markdown",
   "metadata": {},
   "source": [
    "Sometimes we want to call an specific function from a library. For instance, we can call \n",
    "NumPy's square root function as follows:"
   ]
  },
  {
   "cell_type": "code",
   "execution_count": 5,
   "metadata": {},
   "outputs": [
    {
     "data": {
      "text/plain": [
       "1.7320508075688772"
      ]
     },
     "execution_count": 5,
     "metadata": {},
     "output_type": "execute_result"
    }
   ],
   "source": [
    "# Importing only the square root function:\n",
    "from numpy import sqrt\n",
    "\n",
    "#Calculating the square root of 3:\n",
    "sqrt(3)"
   ]
  },
  {
   "cell_type": "markdown",
   "metadata": {},
   "source": [
    "Note that if we import an specific function, we do not need to add the prefix. "
   ]
  }
 ],
 "metadata": {
  "kernelspec": {
   "display_name": "Python 3",
   "language": "python",
   "name": "python3"
  },
  "language_info": {
   "codemirror_mode": {
    "name": "ipython",
    "version": 3
   },
   "file_extension": ".py",
   "mimetype": "text/x-python",
   "name": "python",
   "nbconvert_exporter": "python",
   "pygments_lexer": "ipython3",
   "version": "3.8.3"
  }
 },
 "nbformat": 4,
 "nbformat_minor": 4
}
